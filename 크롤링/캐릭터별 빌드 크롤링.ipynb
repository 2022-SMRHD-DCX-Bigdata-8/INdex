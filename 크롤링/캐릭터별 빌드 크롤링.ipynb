{
 "cells": [
  {
   "cell_type": "code",
   "execution_count": 9,
   "id": "6cd920cd",
   "metadata": {},
   "outputs": [
    {
     "name": "stdout",
     "output_type": "stream",
     "text": [
      "Requirement already satisfied: selenium in c:\\python311\\lib\\site-packages (4.10.0)\n",
      "Requirement already satisfied: urllib3[socks]<3,>=1.26 in c:\\python311\\lib\\site-packages (from selenium) (2.0.3)\n",
      "Requirement already satisfied: trio~=0.17 in c:\\python311\\lib\\site-packages (from selenium) (0.22.2)\n",
      "Requirement already satisfied: trio-websocket~=0.9 in c:\\python311\\lib\\site-packages (from selenium) (0.10.3)\n",
      "Requirement already satisfied: certifi>=2021.10.8 in c:\\python311\\lib\\site-packages (from selenium) (2023.5.7)\n",
      "Requirement already satisfied: attrs>=20.1.0 in c:\\python311\\lib\\site-packages (from trio~=0.17->selenium) (23.1.0)\n",
      "Requirement already satisfied: sortedcontainers in c:\\python311\\lib\\site-packages (from trio~=0.17->selenium) (2.4.0)\n",
      "Requirement already satisfied: idna in c:\\python311\\lib\\site-packages (from trio~=0.17->selenium) (3.4)\n",
      "Requirement already satisfied: outcome in c:\\python311\\lib\\site-packages (from trio~=0.17->selenium) (1.2.0)\n",
      "Requirement already satisfied: sniffio in c:\\python311\\lib\\site-packages (from trio~=0.17->selenium) (1.3.0)\n",
      "Requirement already satisfied: cffi>=1.14 in c:\\python311\\lib\\site-packages (from trio~=0.17->selenium) (1.15.1)\n",
      "Requirement already satisfied: exceptiongroup in c:\\python311\\lib\\site-packages (from trio-websocket~=0.9->selenium) (1.1.2)\n",
      "Requirement already satisfied: wsproto>=0.14 in c:\\python311\\lib\\site-packages (from trio-websocket~=0.9->selenium) (1.2.0)\n",
      "Requirement already satisfied: pysocks!=1.5.7,<2.0,>=1.5.6 in c:\\python311\\lib\\site-packages (from urllib3[socks]<3,>=1.26->selenium) (1.7.1)\n",
      "Requirement already satisfied: pycparser in c:\\python311\\lib\\site-packages (from cffi>=1.14->trio~=0.17->selenium) (2.21)\n",
      "Requirement already satisfied: h11<1,>=0.9.0 in c:\\python311\\lib\\site-packages (from wsproto>=0.14->trio-websocket~=0.9->selenium) (0.14.0)\n",
      "Note: you may need to restart the kernel to use updated packages.\n"
     ]
    },
    {
     "name": "stderr",
     "output_type": "stream",
     "text": [
      "\n",
      "[notice] A new release of pip is available: 23.2 -> 23.2.1\n",
      "[notice] To update, run: python.exe -m pip install --upgrade pip\n"
     ]
    }
   ],
   "source": [
    "pip install selenium"
   ]
  },
  {
   "cell_type": "code",
   "execution_count": 14,
   "id": "925d42ec",
   "metadata": {
    "ExecuteTime": {
     "end_time": "2023-08-14T06:50:30.332947Z",
     "start_time": "2023-08-14T06:50:30.314494Z"
    }
   },
   "outputs": [],
   "source": [
    "from selenium import webdriver as wb\n",
    "from selenium.webdriver.chrome.options import Options\n",
    "\n",
    "\n",
    "from selenium.webdriver.common.keys import Keys\n",
    "from selenium.webdriver.chrome.service import Service\n",
    "from selenium.webdriver.common.by import By\n",
    "from webdriver_manager.chrome import ChromeDriverManager  # 크롬드라이버 자동업데이트\n",
    "import time\n",
    "import requests as req\n",
    "from bs4 import BeautifulSoup as bs\n",
    "import pandas as pd"
   ]
  },
  {
   "attachments": {},
   "cell_type": "markdown",
   "id": "3b8dbde2",
   "metadata": {},
   "source": []
  },
  {
   "cell_type": "code",
   "execution_count": 17,
   "id": "5d71fbc0",
   "metadata": {},
   "outputs": [
    {
     "name": "stdout",
     "output_type": "stream",
     "text": [
      "Requirement already satisfied: selenium in c:\\python311\\lib\\site-packages (4.10.0)\n",
      "Collecting selenium\n",
      "  Obtaining dependency information for selenium from https://files.pythonhosted.org/packages/10/56/8288d1813a68c1e0638515dbb777fce6d87d0d240e683216f956145310e6/selenium-4.11.2-py3-none-any.whl.metadata\n",
      "  Downloading selenium-4.11.2-py3-none-any.whl.metadata (7.0 kB)\n",
      "Requirement already satisfied: urllib3[socks]<3,>=1.26 in c:\\python311\\lib\\site-packages (from selenium) (2.0.3)\n",
      "Requirement already satisfied: trio~=0.17 in c:\\python311\\lib\\site-packages (from selenium) (0.22.2)\n",
      "Requirement already satisfied: trio-websocket~=0.9 in c:\\python311\\lib\\site-packages (from selenium) (0.10.3)\n",
      "Requirement already satisfied: certifi>=2021.10.8 in c:\\python311\\lib\\site-packages (from selenium) (2023.5.7)\n",
      "Requirement already satisfied: attrs>=20.1.0 in c:\\python311\\lib\\site-packages (from trio~=0.17->selenium) (23.1.0)\n",
      "Requirement already satisfied: sortedcontainers in c:\\python311\\lib\\site-packages (from trio~=0.17->selenium) (2.4.0)\n",
      "Requirement already satisfied: idna in c:\\python311\\lib\\site-packages (from trio~=0.17->selenium) (3.4)\n",
      "Requirement already satisfied: outcome in c:\\python311\\lib\\site-packages (from trio~=0.17->selenium) (1.2.0)\n",
      "Requirement already satisfied: sniffio in c:\\python311\\lib\\site-packages (from trio~=0.17->selenium) (1.3.0)\n",
      "Requirement already satisfied: cffi>=1.14 in c:\\python311\\lib\\site-packages (from trio~=0.17->selenium) (1.15.1)\n",
      "Requirement already satisfied: exceptiongroup in c:\\python311\\lib\\site-packages (from trio-websocket~=0.9->selenium) (1.1.2)\n",
      "Requirement already satisfied: wsproto>=0.14 in c:\\python311\\lib\\site-packages (from trio-websocket~=0.9->selenium) (1.2.0)\n",
      "Requirement already satisfied: pysocks!=1.5.7,<2.0,>=1.5.6 in c:\\python311\\lib\\site-packages (from urllib3[socks]<3,>=1.26->selenium) (1.7.1)\n",
      "Requirement already satisfied: pycparser in c:\\python311\\lib\\site-packages (from cffi>=1.14->trio~=0.17->selenium) (2.21)\n",
      "Requirement already satisfied: h11<1,>=0.9.0 in c:\\python311\\lib\\site-packages (from wsproto>=0.14->trio-websocket~=0.9->selenium) (0.14.0)\n",
      "Downloading selenium-4.11.2-py3-none-any.whl (7.2 MB)\n",
      "   ---------------------------------------- 0.0/7.2 MB ? eta -:--:--\n",
      "   ----- ---------------------------------- 1.0/7.2 MB 32.3 MB/s eta 0:00:01\n",
      "   ----- ---------------------------------- 1.0/7.2 MB 32.3 MB/s eta 0:00:01\n",
      "   ----- ---------------------------------- 1.0/7.2 MB 32.3 MB/s eta 0:00:01\n",
      "   ----- ---------------------------------- 1.0/7.2 MB 32.3 MB/s eta 0:00:01\n",
      "   ----- ---------------------------------- 1.0/7.2 MB 32.3 MB/s eta 0:00:01\n",
      "   ------ --------------------------------- 1.2/7.2 MB 4.4 MB/s eta 0:00:02\n",
      "   ------------------ --------------------- 3.4/7.2 MB 10.9 MB/s eta 0:00:01\n",
      "   ---------------------------------------  7.0/7.2 MB 19.5 MB/s eta 0:00:01\n",
      "   ---------------------------------------- 7.2/7.2 MB 18.4 MB/s eta 0:00:00\n",
      "Installing collected packages: selenium\n",
      "  Attempting uninstall: selenium\n",
      "    Found existing installation: selenium 4.10.0\n",
      "    Uninstalling selenium-4.10.0:\n",
      "      Successfully uninstalled selenium-4.10.0\n",
      "Successfully installed selenium-4.11.2\n",
      "Note: you may need to restart the kernel to use updated packages.\n"
     ]
    },
    {
     "name": "stderr",
     "output_type": "stream",
     "text": [
      "\n",
      "[notice] A new release of pip is available: 23.2 -> 23.2.1\n",
      "[notice] To update, run: python.exe -m pip install --upgrade pip\n"
     ]
    }
   ],
   "source": [
    "# 정형쌤이 크롬 켜졌다가 바로 꺼질때 조취\n",
    "pip install -U selenium"
   ]
  },
  {
   "cell_type": "code",
   "execution_count": 23,
   "id": "00883230",
   "metadata": {
    "ExecuteTime": {
     "end_time": "2023-08-14T06:52:45.208638Z",
     "start_time": "2023-08-14T06:52:30.849679Z"
    }
   },
   "outputs": [],
   "source": [
    "# 크롬 실행 캐릭터 설명 이동\n",
    "driver = wb.Chrome()\n",
    "driver.get(\"https://www.op.gg/champions\")\n",
    "#content-container > div.css-g5c2cp.e1fe8s350 > aside > nav > ul > li:nth-child(1) > a > div > img\n"
   ]
  },
  {
   "cell_type": "code",
   "execution_count": 20,
   "id": "a3ea7433",
   "metadata": {},
   "outputs": [],
   "source": [
    "# 빌드 리스트로 만들기\n",
    "allChampBuildList = []\n",
    "build_list1= []\n",
    "\n",
    "\n"
   ]
  },
  {
   "cell_type": "code",
   "execution_count": 86,
   "id": "4735212e",
   "metadata": {
    "ExecuteTime": {
     "end_time": "2023-08-14T07:59:41.055720Z",
     "start_time": "2023-08-14T07:59:40.953689Z"
    },
    "scrolled": false
   },
   "outputs": [
    {
     "name": "stdout",
     "output_type": "stream",
     "text": [
      "Unexpected exception formatting exception. Falling back to standard exception\n"
     ]
    },
    {
     "name": "stderr",
     "output_type": "stream",
     "text": [
      "Traceback (most recent call last):\n",
      "  File \"c:\\python311\\Lib\\site-packages\\IPython\\core\\interactiveshell.py\", line 3508, in run_code\n",
      "    exec(code_obj, self.user_global_ns, self.user_ns)\n",
      "  File \"C:\\Users\\smhrd\\AppData\\Local\\Temp\\ipykernel_18260\\746713407.py\", line 2, in <module>\n",
      "    build1 = driver.find_element(By.CSS_SELECTOR, \"#content-container > main > div:nth-child(3) > div > div.css-11qoik6.e1fhxr8k1 > div > table > tbody > tr:nth-child(1) > td.css-1g7m8av.e14sgc0n2 > div > div > div:nth-child(1)  > div > img\")\n",
      "             ^^^^^^^^^^^^^^^^^^^^^^^^^^^^^^^^^^^^^^^^^^^^^^^^^^^^^^^^^^^^^^^^^^^^^^^^^^^^^^^^^^^^^^^^^^^^^^^^^^^^^^^^^^^^^^^^^^^^^^^^^^^^^^^^^^^^^^^^^^^^^^^^^^^^^^^^^^^^^^^^^^^^^^^^^^^^^^^^^^^^^^^^^^^^^^^^^^^^^^^^^^^^^^^^^^^^^^^^^^^^^^^^^^^^^\n",
      "  File \"c:\\python311\\Lib\\site-packages\\selenium\\webdriver\\remote\\webdriver.py\", line 740, in find_element\n",
      "  File \"c:\\python311\\Lib\\site-packages\\selenium\\webdriver\\remote\\webdriver.py\", line 346, in execute\n",
      "    response[\"value\"] = self._unwrap_value(response.get(\"value\", None))\n",
      "    ^^^^^^^^^^^^^^^^^^^^^^^^^^^^^^^^^^^^^^^^^^^\n",
      "  File \"c:\\python311\\Lib\\site-packages\\selenium\\webdriver\\remote\\errorhandler.py\", line 245, in check_response\n",
      "selenium.common.exceptions.NoSuchElementException: Message: no such element: Unable to locate element: {\"method\":\"css selector\",\"selector\":\"#content-container > main > div:nth-child(3) > div > div.css-11qoik6.e1fhxr8k1 > div > table > tbody > tr:nth-child(1) > td.css-1g7m8av.e14sgc0n2 > div > div > div:nth-child(1)  > div > img\"}\n",
      "  (Session info: chrome=116.0.5845.96); For documentation on this error, please visit: https://www.selenium.dev/documentation/webdriver/troubleshooting/errors#no-such-element-exception\n",
      "Stacktrace:\n",
      "\tGetHandleVerifier [0x00007FF65ED652A2+57122]\n",
      "\t(No symbol) [0x00007FF65ECDEA92]\n",
      "\t(No symbol) [0x00007FF65EBAE3AB]\n",
      "\t(No symbol) [0x00007FF65EBE7D3E]\n",
      "\t(No symbol) [0x00007FF65EBE7E2C]\n",
      "\t(No symbol) [0x00007FF65EC20B67]\n",
      "\t(No symbol) [0x00007FF65EC0701F]\n",
      "\t(No symbol) [0x00007FF65EC1EB82]\n",
      "\t(No symbol) [0x00007FF65EC06DB3]\n",
      "\t(No symbol) [0x00007FF65EBDD2B1]\n",
      "\t(No symbol) [0x00007FF65EBDE494]\n",
      "\tGetHandleVerifier [0x00007FF65F00EF82+2849794]\n",
      "\tGetHandleVerifier [0x00007FF65F061D24+3189156]\n",
      "\tGetHandleVerifier [0x00007FF65F05ACAF+3160367]\n",
      "\tGetHandleVerifier [0x00007FF65EDF6D06+653702]\n",
      "\t(No symbol) [0x00007FF65ECEA208]\n",
      "\t(No symbol) [0x00007FF65ECE62C4]\n",
      "\t(No symbol) [0x00007FF65ECE63F6]\n",
      "\t(No symbol) [0x00007FF65ECD67A3]\n",
      "\tBaseThreadInitThunk [0x00007FFB02497614+20]\n",
      "\tRtlUserThreadStart [0x00007FFB033A26B1+33]\n",
      "\n",
      "\n",
      "During handling of the above exception, another exception occurred:\n",
      "\n",
      "Traceback (most recent call last):\n",
      "  File \"c:\\python311\\Lib\\site-packages\\IPython\\core\\interactiveshell.py\", line 2105, in showtraceback\n",
      "    stb = self.InteractiveTB.structured_traceback(\n",
      "          ^^^^^^^^^^^^^^^^^^^^^^^^^^^^^^^^^^^^^^^^\n",
      "  File \"c:\\python311\\Lib\\site-packages\\IPython\\core\\ultratb.py\", line 1428, in structured_traceback\n",
      "    return FormattedTB.structured_traceback(\n",
      "           ^^^^^^^^^^^^^^^^^^^^^^^^^^^^^^^^^\n",
      "  File \"c:\\python311\\Lib\\site-packages\\IPython\\core\\ultratb.py\", line 1319, in structured_traceback\n",
      "    return VerboseTB.structured_traceback(\n",
      "           ^^^^^^^^^^^^^^^^^^^^^^^^^^^^^^^\n",
      "  File \"c:\\python311\\Lib\\site-packages\\IPython\\core\\ultratb.py\", line 1172, in structured_traceback\n",
      "    formatted_exception = self.format_exception_as_a_whole(etype, evalue, etb, number_of_lines_of_context,\n",
      "                          ^^^^^^^^^^^^^^^^^^^^^^^^^^^^^^^^^^^^^^^^^^^^^^^^^^^^^^^^^^^^^^^^^^^^^^^^^^^^^^^^\n",
      "  File \"c:\\python311\\Lib\\site-packages\\IPython\\core\\ultratb.py\", line 1087, in format_exception_as_a_whole\n",
      "    frames.append(self.format_record(record))\n",
      "                  ^^^^^^^^^^^^^^^^^^^^^^^^^^\n",
      "  File \"c:\\python311\\Lib\\site-packages\\IPython\\core\\ultratb.py\", line 969, in format_record\n",
      "    frame_info.lines, Colors, self.has_colors, lvals\n",
      "    ^^^^^^^^^^^^^^^^\n",
      "  File \"c:\\python311\\Lib\\site-packages\\IPython\\core\\ultratb.py\", line 792, in lines\n",
      "    return self._sd.lines\n",
      "           ^^^^^^^^^^^^^^\n",
      "  File \"c:\\python311\\Lib\\site-packages\\stack_data\\utils.py\", line 144, in cached_property_wrapper\n",
      "    value = obj.__dict__[self.func.__name__] = self.func(obj)\n",
      "                                               ^^^^^^^^^^^^^^\n",
      "  File \"c:\\python311\\Lib\\site-packages\\stack_data\\core.py\", line 734, in lines\n",
      "    pieces = self.included_pieces\n",
      "             ^^^^^^^^^^^^^^^^^^^^\n",
      "  File \"c:\\python311\\Lib\\site-packages\\stack_data\\utils.py\", line 144, in cached_property_wrapper\n",
      "    value = obj.__dict__[self.func.__name__] = self.func(obj)\n",
      "                                               ^^^^^^^^^^^^^^\n",
      "  File \"c:\\python311\\Lib\\site-packages\\stack_data\\core.py\", line 681, in included_pieces\n",
      "    pos = scope_pieces.index(self.executing_piece)\n",
      "                             ^^^^^^^^^^^^^^^^^^^^\n",
      "  File \"c:\\python311\\Lib\\site-packages\\stack_data\\utils.py\", line 144, in cached_property_wrapper\n",
      "    value = obj.__dict__[self.func.__name__] = self.func(obj)\n",
      "                                               ^^^^^^^^^^^^^^\n",
      "  File \"c:\\python311\\Lib\\site-packages\\stack_data\\core.py\", line 660, in executing_piece\n",
      "    return only(\n",
      "           ^^^^^\n",
      "  File \"c:\\python311\\Lib\\site-packages\\executing\\executing.py\", line 190, in only\n",
      "    raise NotOneValueFound('Expected one value, found 0')\n",
      "executing.executing.NotOneValueFound: Expected one value, found 0\n"
     ]
    }
   ],
   "source": [
    "# build1 요소 선택\n",
    "build1 = driver.find_element(By.CSS_SELECTOR, \"#content-container > main > div:nth-child(3) > div > div.css-11qoik6.e1fhxr8k1 > div > table > tbody > tr:nth-child(1) > td.css-1g7m8av.e14sgc0n2 > div > div > div:nth-child(1)  > div > img\")\n",
    "                                            #content-container > main > div:nth-child(3) > div > div.css-11qoik6.e1fhxr8k1 > div > table > tbody > tr:nth-child(1) > td.css-1g7m8av.e14sgc0n2 > div > div > div.item_icon.css-ae9wme.e12mb7fa2 > div > img\n",
    "                                               #content-container > main > div:nth-child(3) > div > div.css-11qoik6.e1fhxr8k1 > div > table > tbody > tr:nth-child(1) > td.css-1g7m8av.e14sgc0n2 > div > div\n",
    "    \n",
    "    \n",
    "# build2 요소 선택\n",
    "build2 = driver.find_element(By.CSS_SELECTOR, \"#content-container > main > div:nth-child(3) > div > div.css-11qoik6.e1fhxr8k1 > div > table > tbody > tr:nth-child(1) > td.css-1g7m8av.e14sgc0n2 > div > div > div:nth-child(3)  > div > img\")\n",
    "\n",
    "# build3 요소 선택\n",
    "build3 = driver.find_element(By.CSS_SELECTOR, \"#content-container > main > div:nth-child(3) > div > div.css-11qoik6.e1fhxr8k1 > div > table > tbody > tr:nth-child(1) > td.css-1g7m8av.e14sgc0n2 > div > div > div:nth-child(5)  > div > img\")\n",
    "\n",
    "# alt 속성 값 추출\n",
    "build_name1 = build1.get_attribute('alt')\n",
    "build_name2 = build2.get_attribute('alt')\n",
    "build_name3 = build3.get_attribute('alt')\n",
    "\n",
    "print(build_name1)\n",
    "print(build_name2)\n",
    "print(build_name3)\n",
    "\n",
    "build_list.append(build_name1) \n",
    "build_list.append(build_name2) \n",
    "build_list.append(build_name3) \n",
    "\n",
    "build_list1"
   ]
  },
  {
   "cell_type": "code",
   "execution_count": 22,
   "id": "22d5cc4e",
   "metadata": {},
   "outputs": [
    {
     "data": {
      "text/plain": [
       "[[]]"
      ]
     },
     "execution_count": 22,
     "metadata": {},
     "output_type": "execute_result"
    }
   ],
   "source": [
    "# 챔프별 빌드 모을 리스트 생성\n",
    "allChampBuildList = []\n",
    "allChampBuildList.append(build_list1)\n",
    "\n",
    "allChampBuildList"
   ]
  },
  {
   "cell_type": "code",
   "execution_count": 55,
   "id": "4ab25950",
   "metadata": {
    "ExecuteTime": {
     "end_time": "2023-08-14T07:18:10.077926Z",
     "start_time": "2023-08-14T07:17:55.998011Z"
    }
   },
   "outputs": [
    {
     "ename": "WebDriverException",
     "evalue": "Message: disconnected: unable to send message to renderer\n  (failed to check if window was closed: disconnected: not connected to DevTools)\n  (Session info: chrome=115.0.5790.171)\nStacktrace:\nBacktrace:\n\tGetHandleVerifier [0x0052A813+48355]\n\t(No symbol) [0x004BC4B1]\n\t(No symbol) [0x003C5358]\n\t(No symbol) [0x003B7120]\n\t(No symbol) [0x003B77AA]\n\t(No symbol) [0x003C7271]\n\t(No symbol) [0x003C781F]\n\t(No symbol) [0x003C99E1]\n\t(No symbol) [0x003C9A80]\n\t(No symbol) [0x003F061C]\n\t(No symbol) [0x003F0B3B]\n\t(No symbol) [0x0041E232]\n\t(No symbol) [0x0040A784]\n\t(No symbol) [0x0041C922]\n\t(No symbol) [0x0040A536]\n\t(No symbol) [0x003E82DC]\n\t(No symbol) [0x003E93DD]\n\tGetHandleVerifier [0x0078AABD+2539405]\n\tGetHandleVerifier [0x007CA78F+2800735]\n\tGetHandleVerifier [0x007C456C+2775612]\n\tGetHandleVerifier [0x005B51E0+616112]\n\t(No symbol) [0x004C5F8C]\n\t(No symbol) [0x004C2328]\n\t(No symbol) [0x004C240B]\n\t(No symbol) [0x004B4FF7]\n\tBaseThreadInitThunk [0x75CD00C9+25]\n\tRtlGetAppContainerNamedObjectPath [0x77B67B1E+286]\n\tRtlGetAppContainerNamedObjectPath [0x77B67AEE+238]\n",
     "output_type": "error",
     "traceback": [
      "\u001b[1;31m---------------------------------------------------------------------------\u001b[0m",
      "\u001b[1;31mWebDriverException\u001b[0m                        Traceback (most recent call last)",
      "\u001b[1;32m~\\AppData\\Local\\Temp\\ipykernel_73008\\3298164291.py\u001b[0m in \u001b[0;36m<module>\u001b[1;34m\u001b[0m\n\u001b[0;32m      7\u001b[0m \u001b[1;33m\u001b[0m\u001b[0m\n\u001b[0;32m      8\u001b[0m \u001b[1;32mfor\u001b[0m \u001b[0m_\u001b[0m \u001b[1;32min\u001b[0m \u001b[0mrange\u001b[0m\u001b[1;33m(\u001b[0m\u001b[1;36m164\u001b[0m\u001b[1;33m)\u001b[0m\u001b[1;33m:\u001b[0m  \u001b[1;31m# 캐릭터 164 개\u001b[0m\u001b[1;33m\u001b[0m\u001b[1;33m\u001b[0m\u001b[0m\n\u001b[1;32m----> 9\u001b[1;33m     \u001b[0mcharactor\u001b[0m \u001b[1;33m=\u001b[0m \u001b[0mdriver\u001b[0m\u001b[1;33m.\u001b[0m\u001b[0mfind_element\u001b[0m\u001b[1;33m(\u001b[0m\u001b[0mBy\u001b[0m\u001b[1;33m.\u001b[0m\u001b[0mCSS_SELECTOR\u001b[0m\u001b[1;33m,\u001b[0m \u001b[1;34mf'#content-container > div.css-g5c2cp.e1fe8s350 > aside > nav > ul > li:nth-child({champNum}) > a'\u001b[0m\u001b[1;33m)\u001b[0m\u001b[1;33m\u001b[0m\u001b[1;33m\u001b[0m\u001b[0m\n\u001b[0m\u001b[0;32m     10\u001b[0m     \u001b[0mdriver\u001b[0m\u001b[1;33m.\u001b[0m\u001b[0mexecute_script\u001b[0m\u001b[1;33m(\u001b[0m\u001b[1;34m\"arguments[0].click();\"\u001b[0m\u001b[1;33m,\u001b[0m \u001b[0mcharactor\u001b[0m\u001b[1;33m)\u001b[0m\u001b[1;33m\u001b[0m\u001b[1;33m\u001b[0m\u001b[0m\n\u001b[0;32m     11\u001b[0m \u001b[1;33m\u001b[0m\u001b[0m\n",
      "\u001b[1;32mc:\\Users\\smhrd\\anaconda3\\lib\\site-packages\\selenium\\webdriver\\remote\\webdriver.py\u001b[0m in \u001b[0;36mfind_element\u001b[1;34m(self, by, value)\u001b[0m\n\u001b[0;32m    738\u001b[0m             \u001b[0mvalue\u001b[0m \u001b[1;33m=\u001b[0m \u001b[1;34mf'[name=\"{value}\"]'\u001b[0m\u001b[1;33m\u001b[0m\u001b[1;33m\u001b[0m\u001b[0m\n\u001b[0;32m    739\u001b[0m \u001b[1;33m\u001b[0m\u001b[0m\n\u001b[1;32m--> 740\u001b[1;33m         \u001b[1;32mreturn\u001b[0m \u001b[0mself\u001b[0m\u001b[1;33m.\u001b[0m\u001b[0mexecute\u001b[0m\u001b[1;33m(\u001b[0m\u001b[0mCommand\u001b[0m\u001b[1;33m.\u001b[0m\u001b[0mFIND_ELEMENT\u001b[0m\u001b[1;33m,\u001b[0m \u001b[1;33m{\u001b[0m\u001b[1;34m\"using\"\u001b[0m\u001b[1;33m:\u001b[0m \u001b[0mby\u001b[0m\u001b[1;33m,\u001b[0m \u001b[1;34m\"value\"\u001b[0m\u001b[1;33m:\u001b[0m \u001b[0mvalue\u001b[0m\u001b[1;33m}\u001b[0m\u001b[1;33m)\u001b[0m\u001b[1;33m[\u001b[0m\u001b[1;34m\"value\"\u001b[0m\u001b[1;33m]\u001b[0m\u001b[1;33m\u001b[0m\u001b[1;33m\u001b[0m\u001b[0m\n\u001b[0m\u001b[0;32m    741\u001b[0m \u001b[1;33m\u001b[0m\u001b[0m\n\u001b[0;32m    742\u001b[0m     \u001b[1;32mdef\u001b[0m \u001b[0mfind_elements\u001b[0m\u001b[1;33m(\u001b[0m\u001b[0mself\u001b[0m\u001b[1;33m,\u001b[0m \u001b[0mby\u001b[0m\u001b[1;33m=\u001b[0m\u001b[0mBy\u001b[0m\u001b[1;33m.\u001b[0m\u001b[0mID\u001b[0m\u001b[1;33m,\u001b[0m \u001b[0mvalue\u001b[0m\u001b[1;33m:\u001b[0m \u001b[0mOptional\u001b[0m\u001b[1;33m[\u001b[0m\u001b[0mstr\u001b[0m\u001b[1;33m]\u001b[0m \u001b[1;33m=\u001b[0m \u001b[1;32mNone\u001b[0m\u001b[1;33m)\u001b[0m \u001b[1;33m->\u001b[0m \u001b[0mList\u001b[0m\u001b[1;33m[\u001b[0m\u001b[0mWebElement\u001b[0m\u001b[1;33m]\u001b[0m\u001b[1;33m:\u001b[0m\u001b[1;33m\u001b[0m\u001b[1;33m\u001b[0m\u001b[0m\n",
      "\u001b[1;32mc:\\Users\\smhrd\\anaconda3\\lib\\site-packages\\selenium\\webdriver\\remote\\webdriver.py\u001b[0m in \u001b[0;36mexecute\u001b[1;34m(self, driver_command, params)\u001b[0m\n\u001b[0;32m    344\u001b[0m         \u001b[0mresponse\u001b[0m \u001b[1;33m=\u001b[0m \u001b[0mself\u001b[0m\u001b[1;33m.\u001b[0m\u001b[0mcommand_executor\u001b[0m\u001b[1;33m.\u001b[0m\u001b[0mexecute\u001b[0m\u001b[1;33m(\u001b[0m\u001b[0mdriver_command\u001b[0m\u001b[1;33m,\u001b[0m \u001b[0mparams\u001b[0m\u001b[1;33m)\u001b[0m\u001b[1;33m\u001b[0m\u001b[1;33m\u001b[0m\u001b[0m\n\u001b[0;32m    345\u001b[0m         \u001b[1;32mif\u001b[0m \u001b[0mresponse\u001b[0m\u001b[1;33m:\u001b[0m\u001b[1;33m\u001b[0m\u001b[1;33m\u001b[0m\u001b[0m\n\u001b[1;32m--> 346\u001b[1;33m             \u001b[0mself\u001b[0m\u001b[1;33m.\u001b[0m\u001b[0merror_handler\u001b[0m\u001b[1;33m.\u001b[0m\u001b[0mcheck_response\u001b[0m\u001b[1;33m(\u001b[0m\u001b[0mresponse\u001b[0m\u001b[1;33m)\u001b[0m\u001b[1;33m\u001b[0m\u001b[1;33m\u001b[0m\u001b[0m\n\u001b[0m\u001b[0;32m    347\u001b[0m             \u001b[0mresponse\u001b[0m\u001b[1;33m[\u001b[0m\u001b[1;34m\"value\"\u001b[0m\u001b[1;33m]\u001b[0m \u001b[1;33m=\u001b[0m \u001b[0mself\u001b[0m\u001b[1;33m.\u001b[0m\u001b[0m_unwrap_value\u001b[0m\u001b[1;33m(\u001b[0m\u001b[0mresponse\u001b[0m\u001b[1;33m.\u001b[0m\u001b[0mget\u001b[0m\u001b[1;33m(\u001b[0m\u001b[1;34m\"value\"\u001b[0m\u001b[1;33m,\u001b[0m \u001b[1;32mNone\u001b[0m\u001b[1;33m)\u001b[0m\u001b[1;33m)\u001b[0m\u001b[1;33m\u001b[0m\u001b[1;33m\u001b[0m\u001b[0m\n\u001b[0;32m    348\u001b[0m             \u001b[1;32mreturn\u001b[0m \u001b[0mresponse\u001b[0m\u001b[1;33m\u001b[0m\u001b[1;33m\u001b[0m\u001b[0m\n",
      "\u001b[1;32mc:\\Users\\smhrd\\anaconda3\\lib\\site-packages\\selenium\\webdriver\\remote\\errorhandler.py\u001b[0m in \u001b[0;36mcheck_response\u001b[1;34m(self, response)\u001b[0m\n\u001b[0;32m    243\u001b[0m                 \u001b[0malert_text\u001b[0m \u001b[1;33m=\u001b[0m \u001b[0mvalue\u001b[0m\u001b[1;33m[\u001b[0m\u001b[1;34m\"alert\"\u001b[0m\u001b[1;33m]\u001b[0m\u001b[1;33m.\u001b[0m\u001b[0mget\u001b[0m\u001b[1;33m(\u001b[0m\u001b[1;34m\"text\"\u001b[0m\u001b[1;33m)\u001b[0m\u001b[1;33m\u001b[0m\u001b[1;33m\u001b[0m\u001b[0m\n\u001b[0;32m    244\u001b[0m             \u001b[1;32mraise\u001b[0m \u001b[0mexception_class\u001b[0m\u001b[1;33m(\u001b[0m\u001b[0mmessage\u001b[0m\u001b[1;33m,\u001b[0m \u001b[0mscreen\u001b[0m\u001b[1;33m,\u001b[0m \u001b[0mstacktrace\u001b[0m\u001b[1;33m,\u001b[0m \u001b[0malert_text\u001b[0m\u001b[1;33m)\u001b[0m  \u001b[1;31m# type: ignore[call-arg]  # mypy is not smart enough here\u001b[0m\u001b[1;33m\u001b[0m\u001b[1;33m\u001b[0m\u001b[0m\n\u001b[1;32m--> 245\u001b[1;33m         \u001b[1;32mraise\u001b[0m \u001b[0mexception_class\u001b[0m\u001b[1;33m(\u001b[0m\u001b[0mmessage\u001b[0m\u001b[1;33m,\u001b[0m \u001b[0mscreen\u001b[0m\u001b[1;33m,\u001b[0m \u001b[0mstacktrace\u001b[0m\u001b[1;33m)\u001b[0m\u001b[1;33m\u001b[0m\u001b[1;33m\u001b[0m\u001b[0m\n\u001b[0m",
      "\u001b[1;31mWebDriverException\u001b[0m: Message: disconnected: unable to send message to renderer\n  (failed to check if window was closed: disconnected: not connected to DevTools)\n  (Session info: chrome=115.0.5790.171)\nStacktrace:\nBacktrace:\n\tGetHandleVerifier [0x0052A813+48355]\n\t(No symbol) [0x004BC4B1]\n\t(No symbol) [0x003C5358]\n\t(No symbol) [0x003B7120]\n\t(No symbol) [0x003B77AA]\n\t(No symbol) [0x003C7271]\n\t(No symbol) [0x003C781F]\n\t(No symbol) [0x003C99E1]\n\t(No symbol) [0x003C9A80]\n\t(No symbol) [0x003F061C]\n\t(No symbol) [0x003F0B3B]\n\t(No symbol) [0x0041E232]\n\t(No symbol) [0x0040A784]\n\t(No symbol) [0x0041C922]\n\t(No symbol) [0x0040A536]\n\t(No symbol) [0x003E82DC]\n\t(No symbol) [0x003E93DD]\n\tGetHandleVerifier [0x0078AABD+2539405]\n\tGetHandleVerifier [0x007CA78F+2800735]\n\tGetHandleVerifier [0x007C456C+2775612]\n\tGetHandleVerifier [0x005B51E0+616112]\n\t(No symbol) [0x004C5F8C]\n\t(No symbol) [0x004C2328]\n\t(No symbol) [0x004C240B]\n\t(No symbol) [0x004B4FF7]\n\tBaseThreadInitThunk [0x75CD00C9+25]\n\tRtlGetAppContainerNamedObjectPath [0x77B67B1E+286]\n\tRtlGetAppContainerNamedObjectPath [0x77B67AEE+238]\n"
     ]
    }
   ],
   "source": [
    "# 45분 정도 걸림 타임슬립 적게 걸을시 429Error 너무 많은 요청으로 멈춤\n",
    "# op.gg\n",
    "# 캐릭터 반복 클릭 for문\n",
    "champNum = 1\n",
    "allChampBuildList = []\n",
    "builds = []\n",
    "champBuild = []\n",
    "\n",
    "for _ in range(164):  # 캐릭터 164 개\n",
    "    charactor = driver.find_element(By.CSS_SELECTOR, f'#content-container > div.css-g5c2cp.e1fe8s350 > aside > nav > ul > li:nth-child({champNum}) > a')\n",
    "    driver.execute_script(\"arguments[0].click();\", charactor)\n",
    "    \n",
    "    champNum += 1\n",
    "    time.sleep(2)\n",
    "\n",
    "    # 픽률 제일 높은 1위 빌드 아이템 3개 변수지정\n",
    "    build1 = driver.find_element(By.CSS_SELECTOR, \"div.css-11qoik6.e1fhxr8k1 > div > table > tbody > tr:nth-child(1) > td.css-1g7m8av.e14sgc0n2 > div > div > div:nth-child(1) > div > img\")\n",
    "                                                   #content-container > main > div:nth-child(4) > div > div.css-11qoik6.e1fhxr8k1 > div > table > tbody > tr:nth-child(1) > td.css-1g7m8av.e14sgc0n2 > div > div > div:nth-child(1) > div > img\n",
    "    build2 = driver.find_element(By.CSS_SELECTOR, \"div.css-11qoik6.e1fhxr8k1 > div > table > tbody > tr:nth-child(1) > td.css-1g7m8av.e14sgc0n2 > div > div > div:nth-child(3) > div > img\")\n",
    "    build3 = driver.find_element(By.CSS_SELECTOR, \"div.css-11qoik6.e1fhxr8k1 > div > table > tbody > tr:nth-child(1) > td.css-1g7m8av.e14sgc0n2 > div > div > div:nth-child(5) > div > img\")\n",
    "    time.sleep(1)\n",
    "    \n",
    "    #아이템 한개씩 추출해서 champBild리스트에 추가\n",
    "    champBuild.append(build1.get_attribute(\"alt\"))\n",
    "    champBuild.append(build2.get_attribute(\"alt\"))\n",
    "    champBuild.append(build3.get_attribute(\"alt\"))\n",
    "\n",
    "    # builds 라는 리스트에 하나의 챔프 빌드를 리스트로 저장\n",
    "    builds.append(champBuild)\n",
    "\n",
    "    # 1위 빌드 아이템을 담을 리스트 초기화\n",
    "    champBuild = []\n",
    "    time.sleep(3)\n",
    "    driver.back()\n",
    "    time.sleep(3)\n",
    "    \n",
    "    \n",
    "\n",
    "# 문도에서 충돌\n",
    "# 바루스에서 충돌\n",
    "# 바이에서 충돌\n",
    "\n"
   ]
  },
  {
   "cell_type": "code",
   "execution_count": 61,
   "id": "26b10e6a",
   "metadata": {},
   "outputs": [
    {
     "ename": "WebDriverException",
     "evalue": "Message: disconnected: not connected to DevTools\n  (failed to check if window was closed: disconnected: not connected to DevTools)\n  (Session info: chrome=115.0.5790.171)\nStacktrace:\nBacktrace:\n\tGetHandleVerifier [0x0052A813+48355]\n\t(No symbol) [0x004BC4B1]\n\t(No symbol) [0x003C5358]\n\t(No symbol) [0x003B7D96]\n\t(No symbol) [0x003B7AB9]\n\t(No symbol) [0x003C67C0]\n\t(No symbol) [0x0041C4D8]\n\t(No symbol) [0x0040A536]\n\t(No symbol) [0x003E82DC]\n\t(No symbol) [0x003E93DD]\n\tGetHandleVerifier [0x0078AABD+2539405]\n\tGetHandleVerifier [0x007CA78F+2800735]\n\tGetHandleVerifier [0x007C456C+2775612]\n\tGetHandleVerifier [0x005B51E0+616112]\n\t(No symbol) [0x004C5F8C]\n\t(No symbol) [0x004C2328]\n\t(No symbol) [0x004C240B]\n\t(No symbol) [0x004B4FF7]\n\tBaseThreadInitThunk [0x75CD00C9+25]\n\tRtlGetAppContainerNamedObjectPath [0x77B67B1E+286]\n\tRtlGetAppContainerNamedObjectPath [0x77B67AEE+238]\n",
     "output_type": "error",
     "traceback": [
      "\u001b[1;31m---------------------------------------------------------------------------\u001b[0m",
      "\u001b[1;31mWebDriverException\u001b[0m                        Traceback (most recent call last)",
      "\u001b[1;32m~\\AppData\\Local\\Temp\\ipykernel_73008\\1261242843.py\u001b[0m in \u001b[0;36m<module>\u001b[1;34m\u001b[0m\n\u001b[0;32m      1\u001b[0m \u001b[1;32mwhile\u001b[0m \u001b[0mchampNum\u001b[0m \u001b[1;33m<=\u001b[0m \u001b[1;36m164\u001b[0m\u001b[1;33m:\u001b[0m\u001b[1;33m\u001b[0m\u001b[1;33m\u001b[0m\u001b[0m\n\u001b[1;32m----> 2\u001b[1;33m     \u001b[0mcharactor\u001b[0m \u001b[1;33m=\u001b[0m \u001b[0mdriver\u001b[0m\u001b[1;33m.\u001b[0m\u001b[0mfind_element\u001b[0m\u001b[1;33m(\u001b[0m\u001b[0mBy\u001b[0m\u001b[1;33m.\u001b[0m\u001b[0mCSS_SELECTOR\u001b[0m\u001b[1;33m,\u001b[0m \u001b[1;34mf'#content-container > div.css-g5c2cp.e1fe8s350 > aside > nav > ul > li:nth-child({champNum}) > a'\u001b[0m\u001b[1;33m)\u001b[0m\u001b[1;33m\u001b[0m\u001b[1;33m\u001b[0m\u001b[0m\n\u001b[0m\u001b[0;32m      3\u001b[0m     \u001b[0mdriver\u001b[0m\u001b[1;33m.\u001b[0m\u001b[0mexecute_script\u001b[0m\u001b[1;33m(\u001b[0m\u001b[1;34m\"arguments[0].click();\"\u001b[0m\u001b[1;33m,\u001b[0m \u001b[0mcharactor\u001b[0m\u001b[1;33m)\u001b[0m\u001b[1;33m\u001b[0m\u001b[1;33m\u001b[0m\u001b[0m\n\u001b[0;32m      4\u001b[0m \u001b[1;33m\u001b[0m\u001b[0m\n\u001b[0;32m      5\u001b[0m     \u001b[0mdriver\u001b[0m\u001b[1;33m.\u001b[0m\u001b[0mimplicitly_wait\u001b[0m\u001b[1;33m(\u001b[0m\u001b[1;36m10\u001b[0m\u001b[1;33m)\u001b[0m \u001b[1;31m# 데이터를 다 받아오면 다 기다리지 않고 넘어감\u001b[0m\u001b[1;33m\u001b[0m\u001b[1;33m\u001b[0m\u001b[0m\n",
      "\u001b[1;32mc:\\Users\\smhrd\\anaconda3\\lib\\site-packages\\selenium\\webdriver\\remote\\webdriver.py\u001b[0m in \u001b[0;36mfind_element\u001b[1;34m(self, by, value)\u001b[0m\n\u001b[0;32m    738\u001b[0m             \u001b[0mvalue\u001b[0m \u001b[1;33m=\u001b[0m \u001b[1;34mf'[name=\"{value}\"]'\u001b[0m\u001b[1;33m\u001b[0m\u001b[1;33m\u001b[0m\u001b[0m\n\u001b[0;32m    739\u001b[0m \u001b[1;33m\u001b[0m\u001b[0m\n\u001b[1;32m--> 740\u001b[1;33m         \u001b[1;32mreturn\u001b[0m \u001b[0mself\u001b[0m\u001b[1;33m.\u001b[0m\u001b[0mexecute\u001b[0m\u001b[1;33m(\u001b[0m\u001b[0mCommand\u001b[0m\u001b[1;33m.\u001b[0m\u001b[0mFIND_ELEMENT\u001b[0m\u001b[1;33m,\u001b[0m \u001b[1;33m{\u001b[0m\u001b[1;34m\"using\"\u001b[0m\u001b[1;33m:\u001b[0m \u001b[0mby\u001b[0m\u001b[1;33m,\u001b[0m \u001b[1;34m\"value\"\u001b[0m\u001b[1;33m:\u001b[0m \u001b[0mvalue\u001b[0m\u001b[1;33m}\u001b[0m\u001b[1;33m)\u001b[0m\u001b[1;33m[\u001b[0m\u001b[1;34m\"value\"\u001b[0m\u001b[1;33m]\u001b[0m\u001b[1;33m\u001b[0m\u001b[1;33m\u001b[0m\u001b[0m\n\u001b[0m\u001b[0;32m    741\u001b[0m \u001b[1;33m\u001b[0m\u001b[0m\n\u001b[0;32m    742\u001b[0m     \u001b[1;32mdef\u001b[0m \u001b[0mfind_elements\u001b[0m\u001b[1;33m(\u001b[0m\u001b[0mself\u001b[0m\u001b[1;33m,\u001b[0m \u001b[0mby\u001b[0m\u001b[1;33m=\u001b[0m\u001b[0mBy\u001b[0m\u001b[1;33m.\u001b[0m\u001b[0mID\u001b[0m\u001b[1;33m,\u001b[0m \u001b[0mvalue\u001b[0m\u001b[1;33m:\u001b[0m \u001b[0mOptional\u001b[0m\u001b[1;33m[\u001b[0m\u001b[0mstr\u001b[0m\u001b[1;33m]\u001b[0m \u001b[1;33m=\u001b[0m \u001b[1;32mNone\u001b[0m\u001b[1;33m)\u001b[0m \u001b[1;33m->\u001b[0m \u001b[0mList\u001b[0m\u001b[1;33m[\u001b[0m\u001b[0mWebElement\u001b[0m\u001b[1;33m]\u001b[0m\u001b[1;33m:\u001b[0m\u001b[1;33m\u001b[0m\u001b[1;33m\u001b[0m\u001b[0m\n",
      "\u001b[1;32mc:\\Users\\smhrd\\anaconda3\\lib\\site-packages\\selenium\\webdriver\\remote\\webdriver.py\u001b[0m in \u001b[0;36mexecute\u001b[1;34m(self, driver_command, params)\u001b[0m\n\u001b[0;32m    344\u001b[0m         \u001b[0mresponse\u001b[0m \u001b[1;33m=\u001b[0m \u001b[0mself\u001b[0m\u001b[1;33m.\u001b[0m\u001b[0mcommand_executor\u001b[0m\u001b[1;33m.\u001b[0m\u001b[0mexecute\u001b[0m\u001b[1;33m(\u001b[0m\u001b[0mdriver_command\u001b[0m\u001b[1;33m,\u001b[0m \u001b[0mparams\u001b[0m\u001b[1;33m)\u001b[0m\u001b[1;33m\u001b[0m\u001b[1;33m\u001b[0m\u001b[0m\n\u001b[0;32m    345\u001b[0m         \u001b[1;32mif\u001b[0m \u001b[0mresponse\u001b[0m\u001b[1;33m:\u001b[0m\u001b[1;33m\u001b[0m\u001b[1;33m\u001b[0m\u001b[0m\n\u001b[1;32m--> 346\u001b[1;33m             \u001b[0mself\u001b[0m\u001b[1;33m.\u001b[0m\u001b[0merror_handler\u001b[0m\u001b[1;33m.\u001b[0m\u001b[0mcheck_response\u001b[0m\u001b[1;33m(\u001b[0m\u001b[0mresponse\u001b[0m\u001b[1;33m)\u001b[0m\u001b[1;33m\u001b[0m\u001b[1;33m\u001b[0m\u001b[0m\n\u001b[0m\u001b[0;32m    347\u001b[0m             \u001b[0mresponse\u001b[0m\u001b[1;33m[\u001b[0m\u001b[1;34m\"value\"\u001b[0m\u001b[1;33m]\u001b[0m \u001b[1;33m=\u001b[0m \u001b[0mself\u001b[0m\u001b[1;33m.\u001b[0m\u001b[0m_unwrap_value\u001b[0m\u001b[1;33m(\u001b[0m\u001b[0mresponse\u001b[0m\u001b[1;33m.\u001b[0m\u001b[0mget\u001b[0m\u001b[1;33m(\u001b[0m\u001b[1;34m\"value\"\u001b[0m\u001b[1;33m,\u001b[0m \u001b[1;32mNone\u001b[0m\u001b[1;33m)\u001b[0m\u001b[1;33m)\u001b[0m\u001b[1;33m\u001b[0m\u001b[1;33m\u001b[0m\u001b[0m\n\u001b[0;32m    348\u001b[0m             \u001b[1;32mreturn\u001b[0m \u001b[0mresponse\u001b[0m\u001b[1;33m\u001b[0m\u001b[1;33m\u001b[0m\u001b[0m\n",
      "\u001b[1;32mc:\\Users\\smhrd\\anaconda3\\lib\\site-packages\\selenium\\webdriver\\remote\\errorhandler.py\u001b[0m in \u001b[0;36mcheck_response\u001b[1;34m(self, response)\u001b[0m\n\u001b[0;32m    243\u001b[0m                 \u001b[0malert_text\u001b[0m \u001b[1;33m=\u001b[0m \u001b[0mvalue\u001b[0m\u001b[1;33m[\u001b[0m\u001b[1;34m\"alert\"\u001b[0m\u001b[1;33m]\u001b[0m\u001b[1;33m.\u001b[0m\u001b[0mget\u001b[0m\u001b[1;33m(\u001b[0m\u001b[1;34m\"text\"\u001b[0m\u001b[1;33m)\u001b[0m\u001b[1;33m\u001b[0m\u001b[1;33m\u001b[0m\u001b[0m\n\u001b[0;32m    244\u001b[0m             \u001b[1;32mraise\u001b[0m \u001b[0mexception_class\u001b[0m\u001b[1;33m(\u001b[0m\u001b[0mmessage\u001b[0m\u001b[1;33m,\u001b[0m \u001b[0mscreen\u001b[0m\u001b[1;33m,\u001b[0m \u001b[0mstacktrace\u001b[0m\u001b[1;33m,\u001b[0m \u001b[0malert_text\u001b[0m\u001b[1;33m)\u001b[0m  \u001b[1;31m# type: ignore[call-arg]  # mypy is not smart enough here\u001b[0m\u001b[1;33m\u001b[0m\u001b[1;33m\u001b[0m\u001b[0m\n\u001b[1;32m--> 245\u001b[1;33m         \u001b[1;32mraise\u001b[0m \u001b[0mexception_class\u001b[0m\u001b[1;33m(\u001b[0m\u001b[0mmessage\u001b[0m\u001b[1;33m,\u001b[0m \u001b[0mscreen\u001b[0m\u001b[1;33m,\u001b[0m \u001b[0mstacktrace\u001b[0m\u001b[1;33m)\u001b[0m\u001b[1;33m\u001b[0m\u001b[1;33m\u001b[0m\u001b[0m\n\u001b[0m",
      "\u001b[1;31mWebDriverException\u001b[0m: Message: disconnected: not connected to DevTools\n  (failed to check if window was closed: disconnected: not connected to DevTools)\n  (Session info: chrome=115.0.5790.171)\nStacktrace:\nBacktrace:\n\tGetHandleVerifier [0x0052A813+48355]\n\t(No symbol) [0x004BC4B1]\n\t(No symbol) [0x003C5358]\n\t(No symbol) [0x003B7D96]\n\t(No symbol) [0x003B7AB9]\n\t(No symbol) [0x003C67C0]\n\t(No symbol) [0x0041C4D8]\n\t(No symbol) [0x0040A536]\n\t(No symbol) [0x003E82DC]\n\t(No symbol) [0x003E93DD]\n\tGetHandleVerifier [0x0078AABD+2539405]\n\tGetHandleVerifier [0x007CA78F+2800735]\n\tGetHandleVerifier [0x007C456C+2775612]\n\tGetHandleVerifier [0x005B51E0+616112]\n\t(No symbol) [0x004C5F8C]\n\t(No symbol) [0x004C2328]\n\t(No symbol) [0x004C240B]\n\t(No symbol) [0x004B4FF7]\n\tBaseThreadInitThunk [0x75CD00C9+25]\n\tRtlGetAppContainerNamedObjectPath [0x77B67B1E+286]\n\tRtlGetAppContainerNamedObjectPath [0x77B67AEE+238]\n"
     ]
    }
   ],
   "source": [
    "while champNum <= 164:\n",
    "    charactor = driver.find_element(By.CSS_SELECTOR, f'#content-container > div.css-g5c2cp.e1fe8s350 > aside > nav > ul > li:nth-child({champNum}) > a')\n",
    "    driver.execute_script(\"arguments[0].click();\", charactor)\n",
    "    \n",
    "    driver.implicitly_wait(10) # 데이터를 다 받아오면 다 기다리지 않고 넘어감    \n",
    "\n",
    "    build1 = driver.find_element(By.CSS_SELECTOR, \"div.css-11qoik6.e1fhxr8k1 > div > table > tbody > tr:nth-child(1) > td.css-1g7m8av.e14sgc0n2 > div > div > div:nth-child(1) > div > img\")\n",
    "    build2 = driver.find_element(By.CSS_SELECTOR, \"div.css-11qoik6.e1fhxr8k1 > div > table > tbody > tr:nth-child(1) > td.css-1g7m8av.e14sgc0n2 > div > div > div:nth-child(3) > div > img\")\n",
    "    build3 = driver.find_element(By.CSS_SELECTOR, \"div.css-11qoik6.e1fhxr8k1 > div > table > tbody > tr:nth-child(1) > td.css-1g7m8av.e14sgc0n2 > div > div > div:nth-child(5) > div > img\")\n",
    "    driver.implicitly_wait(10) # 데이터를 다 받아오면 다 기다리지 않고 넘어감    \n",
    "    \n",
    "    champBuild = []\n",
    "    champBuild.append(build1.get_attribute(\"alt\"))\n",
    "    champBuild.append(build2.get_attribute(\"alt\"))\n",
    "    champBuild.append(build3.get_attribute(\"alt\"))\n",
    "\n",
    "    data_without_index.append(champBuild)\n",
    "    \n",
    "    driver.implicitly_wait(10) # 데이터를 다 받아오면 다 기다리지 않고 넘어감\n",
    "    driver.back()\n",
    "    driver.implicitly_wait(10) # 데이터를 다 받아오면 다 기다리지 않고 넘어감    \n",
    "    champNum += 1"
   ]
  },
  {
   "cell_type": "code",
   "execution_count": null,
   "id": "64d9eac0",
   "metadata": {},
   "outputs": [],
   "source": [
    "# 정형 쌤이 알려주신 트라이 캐치 사용법\n",
    "try :\n",
    "    # 배너 위치 알아오기\n",
    "    # 배너 닫는버튼 클릭\n",
    "except :\n",
    "    pass\n",
    "driver.implicitly_wait(10) # 데이터를 다 받아오면 다 기다리지 않고 넘어감"
   ]
  },
  {
   "cell_type": "code",
   "execution_count": 78,
   "id": "e58c89e3",
   "metadata": {},
   "outputs": [],
   "source": [
    "# 리스트를 데이터 프레임으로 저장후 csv저장 방법\n",
    "\n",
    "build_155 = pd.DataFrame(builds)\n",
    "build_155.to_csv(\"멜론차트.csv\", encoding = \"euc-kr\")\n",
    "build_155.to_csv(\"멜론차트.csv\", encoding = \"utf-8\")"
   ]
  },
  {
   "cell_type": "code",
   "execution_count": 25,
   "id": "525fe807",
   "metadata": {},
   "outputs": [],
   "source": [
    "import csv"
   ]
  },
  {
   "cell_type": "code",
   "execution_count": 26,
   "id": "9c148c13",
   "metadata": {},
   "outputs": [],
   "source": [
    "# csv_ 경로 변수에 설정\n",
    "csv_path = \"C:/Users/smhrd/build_155.csv\""
   ]
  },
  {
   "cell_type": "code",
   "execution_count": 88,
   "id": "d3ccf4b3",
   "metadata": {},
   "outputs": [
    {
     "ename": "FileNotFoundError",
     "evalue": "[Errno 2] No such file or directory: 'C:/Users/smhrd/build_155.csv'",
     "output_type": "error",
     "traceback": [
      "\u001b[1;31m---------------------------------------------------------------------------\u001b[0m",
      "\u001b[1;31mFileNotFoundError\u001b[0m                         Traceback (most recent call last)",
      "Cell \u001b[1;32mIn[88], line 4\u001b[0m\n\u001b[0;32m      1\u001b[0m \u001b[39m# csv 파일을 리스트로 불러오기\u001b[39;00m\n\u001b[0;32m      2\u001b[0m \n\u001b[0;32m      3\u001b[0m \u001b[39m# dataframe 파일로 변형\u001b[39;00m\n\u001b[1;32m----> 4\u001b[0m builds_155\u001b[39m=\u001b[39mpd\u001b[39m.\u001b[39;49mread_csv(\u001b[39m'\u001b[39;49m\u001b[39mC:/Users/smhrd/build_155.csv\u001b[39;49m\u001b[39m'\u001b[39;49m)\n\u001b[0;32m      6\u001b[0m df \u001b[39m=\u001b[39mbuilds_155\n\u001b[0;32m      8\u001b[0m \u001b[39m# dataframe 파일을 리스트로 변환\u001b[39;00m\n",
      "File \u001b[1;32mc:\\python311\\Lib\\site-packages\\pandas\\io\\parsers\\readers.py:912\u001b[0m, in \u001b[0;36mread_csv\u001b[1;34m(filepath_or_buffer, sep, delimiter, header, names, index_col, usecols, dtype, engine, converters, true_values, false_values, skipinitialspace, skiprows, skipfooter, nrows, na_values, keep_default_na, na_filter, verbose, skip_blank_lines, parse_dates, infer_datetime_format, keep_date_col, date_parser, date_format, dayfirst, cache_dates, iterator, chunksize, compression, thousands, decimal, lineterminator, quotechar, quoting, doublequote, escapechar, comment, encoding, encoding_errors, dialect, on_bad_lines, delim_whitespace, low_memory, memory_map, float_precision, storage_options, dtype_backend)\u001b[0m\n\u001b[0;32m    899\u001b[0m kwds_defaults \u001b[39m=\u001b[39m _refine_defaults_read(\n\u001b[0;32m    900\u001b[0m     dialect,\n\u001b[0;32m    901\u001b[0m     delimiter,\n\u001b[1;32m   (...)\u001b[0m\n\u001b[0;32m    908\u001b[0m     dtype_backend\u001b[39m=\u001b[39mdtype_backend,\n\u001b[0;32m    909\u001b[0m )\n\u001b[0;32m    910\u001b[0m kwds\u001b[39m.\u001b[39mupdate(kwds_defaults)\n\u001b[1;32m--> 912\u001b[0m \u001b[39mreturn\u001b[39;00m _read(filepath_or_buffer, kwds)\n",
      "File \u001b[1;32mc:\\python311\\Lib\\site-packages\\pandas\\io\\parsers\\readers.py:577\u001b[0m, in \u001b[0;36m_read\u001b[1;34m(filepath_or_buffer, kwds)\u001b[0m\n\u001b[0;32m    574\u001b[0m _validate_names(kwds\u001b[39m.\u001b[39mget(\u001b[39m\"\u001b[39m\u001b[39mnames\u001b[39m\u001b[39m\"\u001b[39m, \u001b[39mNone\u001b[39;00m))\n\u001b[0;32m    576\u001b[0m \u001b[39m# Create the parser.\u001b[39;00m\n\u001b[1;32m--> 577\u001b[0m parser \u001b[39m=\u001b[39m TextFileReader(filepath_or_buffer, \u001b[39m*\u001b[39;49m\u001b[39m*\u001b[39;49mkwds)\n\u001b[0;32m    579\u001b[0m \u001b[39mif\u001b[39;00m chunksize \u001b[39mor\u001b[39;00m iterator:\n\u001b[0;32m    580\u001b[0m     \u001b[39mreturn\u001b[39;00m parser\n",
      "File \u001b[1;32mc:\\python311\\Lib\\site-packages\\pandas\\io\\parsers\\readers.py:1407\u001b[0m, in \u001b[0;36mTextFileReader.__init__\u001b[1;34m(self, f, engine, **kwds)\u001b[0m\n\u001b[0;32m   1404\u001b[0m     \u001b[39mself\u001b[39m\u001b[39m.\u001b[39moptions[\u001b[39m\"\u001b[39m\u001b[39mhas_index_names\u001b[39m\u001b[39m\"\u001b[39m] \u001b[39m=\u001b[39m kwds[\u001b[39m\"\u001b[39m\u001b[39mhas_index_names\u001b[39m\u001b[39m\"\u001b[39m]\n\u001b[0;32m   1406\u001b[0m \u001b[39mself\u001b[39m\u001b[39m.\u001b[39mhandles: IOHandles \u001b[39m|\u001b[39m \u001b[39mNone\u001b[39;00m \u001b[39m=\u001b[39m \u001b[39mNone\u001b[39;00m\n\u001b[1;32m-> 1407\u001b[0m \u001b[39mself\u001b[39m\u001b[39m.\u001b[39m_engine \u001b[39m=\u001b[39m \u001b[39mself\u001b[39;49m\u001b[39m.\u001b[39;49m_make_engine(f, \u001b[39mself\u001b[39;49m\u001b[39m.\u001b[39;49mengine)\n",
      "File \u001b[1;32mc:\\python311\\Lib\\site-packages\\pandas\\io\\parsers\\readers.py:1661\u001b[0m, in \u001b[0;36mTextFileReader._make_engine\u001b[1;34m(self, f, engine)\u001b[0m\n\u001b[0;32m   1659\u001b[0m     \u001b[39mif\u001b[39;00m \u001b[39m\"\u001b[39m\u001b[39mb\u001b[39m\u001b[39m\"\u001b[39m \u001b[39mnot\u001b[39;00m \u001b[39min\u001b[39;00m mode:\n\u001b[0;32m   1660\u001b[0m         mode \u001b[39m+\u001b[39m\u001b[39m=\u001b[39m \u001b[39m\"\u001b[39m\u001b[39mb\u001b[39m\u001b[39m\"\u001b[39m\n\u001b[1;32m-> 1661\u001b[0m \u001b[39mself\u001b[39m\u001b[39m.\u001b[39mhandles \u001b[39m=\u001b[39m get_handle(\n\u001b[0;32m   1662\u001b[0m     f,\n\u001b[0;32m   1663\u001b[0m     mode,\n\u001b[0;32m   1664\u001b[0m     encoding\u001b[39m=\u001b[39;49m\u001b[39mself\u001b[39;49m\u001b[39m.\u001b[39;49moptions\u001b[39m.\u001b[39;49mget(\u001b[39m\"\u001b[39;49m\u001b[39mencoding\u001b[39;49m\u001b[39m\"\u001b[39;49m, \u001b[39mNone\u001b[39;49;00m),\n\u001b[0;32m   1665\u001b[0m     compression\u001b[39m=\u001b[39;49m\u001b[39mself\u001b[39;49m\u001b[39m.\u001b[39;49moptions\u001b[39m.\u001b[39;49mget(\u001b[39m\"\u001b[39;49m\u001b[39mcompression\u001b[39;49m\u001b[39m\"\u001b[39;49m, \u001b[39mNone\u001b[39;49;00m),\n\u001b[0;32m   1666\u001b[0m     memory_map\u001b[39m=\u001b[39;49m\u001b[39mself\u001b[39;49m\u001b[39m.\u001b[39;49moptions\u001b[39m.\u001b[39;49mget(\u001b[39m\"\u001b[39;49m\u001b[39mmemory_map\u001b[39;49m\u001b[39m\"\u001b[39;49m, \u001b[39mFalse\u001b[39;49;00m),\n\u001b[0;32m   1667\u001b[0m     is_text\u001b[39m=\u001b[39;49mis_text,\n\u001b[0;32m   1668\u001b[0m     errors\u001b[39m=\u001b[39;49m\u001b[39mself\u001b[39;49m\u001b[39m.\u001b[39;49moptions\u001b[39m.\u001b[39;49mget(\u001b[39m\"\u001b[39;49m\u001b[39mencoding_errors\u001b[39;49m\u001b[39m\"\u001b[39;49m, \u001b[39m\"\u001b[39;49m\u001b[39mstrict\u001b[39;49m\u001b[39m\"\u001b[39;49m),\n\u001b[0;32m   1669\u001b[0m     storage_options\u001b[39m=\u001b[39;49m\u001b[39mself\u001b[39;49m\u001b[39m.\u001b[39;49moptions\u001b[39m.\u001b[39;49mget(\u001b[39m\"\u001b[39;49m\u001b[39mstorage_options\u001b[39;49m\u001b[39m\"\u001b[39;49m, \u001b[39mNone\u001b[39;49;00m),\n\u001b[0;32m   1670\u001b[0m )\n\u001b[0;32m   1671\u001b[0m \u001b[39massert\u001b[39;00m \u001b[39mself\u001b[39m\u001b[39m.\u001b[39mhandles \u001b[39mis\u001b[39;00m \u001b[39mnot\u001b[39;00m \u001b[39mNone\u001b[39;00m\n\u001b[0;32m   1672\u001b[0m f \u001b[39m=\u001b[39m \u001b[39mself\u001b[39m\u001b[39m.\u001b[39mhandles\u001b[39m.\u001b[39mhandle\n",
      "File \u001b[1;32mc:\\python311\\Lib\\site-packages\\pandas\\io\\common.py:859\u001b[0m, in \u001b[0;36mget_handle\u001b[1;34m(path_or_buf, mode, encoding, compression, memory_map, is_text, errors, storage_options)\u001b[0m\n\u001b[0;32m    854\u001b[0m \u001b[39melif\u001b[39;00m \u001b[39misinstance\u001b[39m(handle, \u001b[39mstr\u001b[39m):\n\u001b[0;32m    855\u001b[0m     \u001b[39m# Check whether the filename is to be opened in binary mode.\u001b[39;00m\n\u001b[0;32m    856\u001b[0m     \u001b[39m# Binary mode does not support 'encoding' and 'newline'.\u001b[39;00m\n\u001b[0;32m    857\u001b[0m     \u001b[39mif\u001b[39;00m ioargs\u001b[39m.\u001b[39mencoding \u001b[39mand\u001b[39;00m \u001b[39m\"\u001b[39m\u001b[39mb\u001b[39m\u001b[39m\"\u001b[39m \u001b[39mnot\u001b[39;00m \u001b[39min\u001b[39;00m ioargs\u001b[39m.\u001b[39mmode:\n\u001b[0;32m    858\u001b[0m         \u001b[39m# Encoding\u001b[39;00m\n\u001b[1;32m--> 859\u001b[0m         handle \u001b[39m=\u001b[39m \u001b[39mopen\u001b[39m(\n\u001b[0;32m    860\u001b[0m             handle,\n\u001b[0;32m    861\u001b[0m             ioargs\u001b[39m.\u001b[39mmode,\n\u001b[0;32m    862\u001b[0m             encoding\u001b[39m=\u001b[39mioargs\u001b[39m.\u001b[39mencoding,\n\u001b[0;32m    863\u001b[0m             errors\u001b[39m=\u001b[39merrors,\n\u001b[0;32m    864\u001b[0m             newline\u001b[39m=\u001b[39m\u001b[39m\"\u001b[39m\u001b[39m\"\u001b[39m,\n\u001b[0;32m    865\u001b[0m         )\n\u001b[0;32m    866\u001b[0m     \u001b[39melse\u001b[39;00m:\n\u001b[0;32m    867\u001b[0m         \u001b[39m# Binary mode\u001b[39;00m\n\u001b[0;32m    868\u001b[0m         handle \u001b[39m=\u001b[39m \u001b[39mopen\u001b[39m(handle, ioargs\u001b[39m.\u001b[39mmode)\n",
      "\u001b[1;31mFileNotFoundError\u001b[0m: [Errno 2] No such file or directory: 'C:/Users/smhrd/build_155.csv'"
     ]
    }
   ],
   "source": [
    "# csv 파일을 리스트로 불러오기\n",
    "\n",
    "# dataframe 파일로 변형 (매개변수에 경로)\n",
    "builds_155=pd.read_csv('C:/Users/smhrd/build_155.csv')\n",
    "\n",
    "df =builds_155\n",
    "\n",
    "# dataframe 파일을 리스트로 변환\n",
    "builds_155_list = df.values.tolist()\n",
    "\n",
    "# 리스트에 있는 index 제거 방법\n",
    "builds_155_list_no_index = df.reset_index(drop=True).values.tolist()\n",
    "\n",
    "\n",
    "data_without_index = [row[1:] for row in builds_155_list_no_index]\n",
    "data_without_index\n",
    "\n"
   ]
  },
  {
   "cell_type": "code",
   "execution_count": 63,
   "id": "39325d34",
   "metadata": {},
   "outputs": [],
   "source": [
    "while champNum <= 164:\n",
    "    charactor = driver.find_element(By.CSS_SELECTOR, f'#content-container > div.css-g5c2cp.e1fe8s350 > aside > nav > ul > li:nth-child({champNum}) > a')\n",
    "    driver.execute_script(\"arguments[0].click();\", charactor)\n",
    "    \n",
    "    driver.implicitly_wait(10) # 데이터를 다 받아오면 다 기다리지 않고 넘어감    \n",
    "\n",
    "    build1 = driver.find_element(By.CSS_SELECTOR, \"div.css-11qoik6.e1fhxr8k1 > div > table > tbody > tr:nth-child(1) > td.css-1g7m8av.e14sgc0n2 > div > div > div:nth-child(1) > div > img\")\n",
    "    build2 = driver.find_element(By.CSS_SELECTOR, \"div.css-11qoik6.e1fhxr8k1 > div > table > tbody > tr:nth-child(1) > td.css-1g7m8av.e14sgc0n2 > div > div > div:nth-child(3) > div > img\")\n",
    "    build3 = driver.find_element(By.CSS_SELECTOR, \"div.css-11qoik6.e1fhxr8k1 > div > table > tbody > tr:nth-child(1) > td.css-1g7m8av.e14sgc0n2 > div > div > div:nth-child(5) > div > img\")\n",
    "    driver.implicitly_wait(10) # 데이터를 다 받아오면 다 기다리지 않고 넘어감    \n",
    "    \n",
    "    champBuild = []\n",
    "    champBuild.append(build1.get_attribute(\"alt\"))\n",
    "    champBuild.append(build2.get_attribute(\"alt\"))\n",
    "    champBuild.append(build3.get_attribute(\"alt\"))\n",
    "\n",
    "    data_without_index.append(champBuild)\n",
    "    \n",
    "    driver.implicitly_wait(10) # 데이터를 다 받아오면 다 기다리지 않고 넘어감\n",
    "    driver.back()\n",
    "    driver.implicitly_wait(10) # 데이터를 다 받아오면 다 기다리지 않고 넘어감    \n",
    "    champNum += 1"
   ]
  },
  {
   "cell_type": "code",
   "execution_count": 67,
   "id": "92fb78d5",
   "metadata": {},
   "outputs": [],
   "source": [
    "# 빌드 csv로 저장\n",
    "len(data_without_index)\n",
    "data_without_index\n",
    "allChampBuilds = pd.DataFrame(data_without_index)\n",
    "allChampBuilds.to_csv(\"allChampBuilds_euc-kr.csv\", encoding = \"euc-kr\")\n",
    "allChampBuilds.to_csv(\"allChampBuilds_utf-8.csv\", encoding = \"utf-8\")"
   ]
  },
  {
   "cell_type": "code",
   "execution_count": 83,
   "id": "7d9f69e4",
   "metadata": {},
   "outputs": [],
   "source": [
    "# 챔프 이름 추출\n",
    "cNameList = []\n",
    "i = 1\n",
    "for i in range(1,164):\n",
    "    cName = driver.find_element(By.CSS_SELECTOR, f'#content-container > div.css-g5c2cp.e1fe8s350 > aside > nav > ul > li:nth-child({i}) > a > div > span')\n",
    "    cNameList.append(cName.text)\n"
   ]
  },
  {
   "cell_type": "code",
   "execution_count": 85,
   "id": "2e01e876",
   "metadata": {},
   "outputs": [],
   "source": [
    "championNameList = pd.DataFrame(cNameList)\n",
    "championNameList.to_csv(\"championNameList_euc-kr.csv\", encoding = \"euc-kr\")\n",
    "championNameList.to_csv(\"championNameList_utf-8.csv\", encoding = \"utf-8\")\n"
   ]
  }
 ],
 "metadata": {
  "kernelspec": {
   "display_name": "base",
   "language": "python",
   "name": "python3"
  },
  "language_info": {
   "codemirror_mode": {
    "name": "ipython",
    "version": 3
   },
   "file_extension": ".py",
   "mimetype": "text/x-python",
   "name": "python",
   "nbconvert_exporter": "python",
   "pygments_lexer": "ipython3",
   "version": "3.11.3"
  },
  "toc": {
   "base_numbering": 1,
   "nav_menu": {},
   "number_sections": true,
   "sideBar": true,
   "skip_h1_title": false,
   "title_cell": "Table of Contents",
   "title_sidebar": "Contents",
   "toc_cell": false,
   "toc_position": {},
   "toc_section_display": true,
   "toc_window_display": false
  },
  "varInspector": {
   "cols": {
    "lenName": 16,
    "lenType": 16,
    "lenVar": 40
   },
   "kernels_config": {
    "python": {
     "delete_cmd_postfix": "",
     "delete_cmd_prefix": "del ",
     "library": "var_list.py",
     "varRefreshCmd": "print(var_dic_list())"
    },
    "r": {
     "delete_cmd_postfix": ") ",
     "delete_cmd_prefix": "rm(",
     "library": "var_list.r",
     "varRefreshCmd": "cat(var_dic_list()) "
    }
   },
   "types_to_exclude": [
    "module",
    "function",
    "builtin_function_or_method",
    "instance",
    "_Feature"
   ],
   "window_display": false
  }
 },
 "nbformat": 4,
 "nbformat_minor": 5
}
